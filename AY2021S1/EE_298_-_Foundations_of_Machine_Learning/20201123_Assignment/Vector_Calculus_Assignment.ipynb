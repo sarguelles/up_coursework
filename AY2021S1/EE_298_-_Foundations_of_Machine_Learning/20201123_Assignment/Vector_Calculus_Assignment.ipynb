{
  "nbformat": 4,
  "nbformat_minor": 0,
  "metadata": {
    "colab": {
      "name": "Vector_Calculus_Assignment.ipynb",
      "provenance": [],
      "collapsed_sections": []
    },
    "kernelspec": {
      "display_name": "Python 3",
      "name": "python3"
    }
  },
  "cells": [
    {
      "cell_type": "markdown",
      "metadata": {
        "id": "RvVMQ-PlDhUp"
      },
      "source": [
        "# Vector Calculus\n",
        "\n",
        "> *Quick Note*  \n",
        "> Some assertions (via `assert`) are made to check if the matrix dimensions are at least as expected."
      ]
    },
    {
      "cell_type": "markdown",
      "metadata": {
        "id": "_qKfCDxT-m0s"
      },
      "source": [
        "Load the needed libraries."
      ]
    },
    {
      "cell_type": "code",
      "metadata": {
        "id": "RZpmnMuZFCoL"
      },
      "source": [
        "import matplotlib.pyplot as plt\n",
        "import numpy as np"
      ],
      "execution_count": null,
      "outputs": []
    },
    {
      "cell_type": "markdown",
      "metadata": {
        "id": "p5gYFk8i-p0n"
      },
      "source": [
        "## Data Preparation\n",
        "\n",
        "This function generates the samples. It takes in some num_data random samples from a 1D Gaussian, and performs binning with num_samples.\n",
        "\n",
        "Some assertion is done to check if at least the lengths of the variables check out. This type of simple assertion is also done on other functions."
      ]
    },
    {
      "cell_type": "code",
      "metadata": {
        "id": "eGZZj7iIEtaO"
      },
      "source": [
        "def generate_samples(mean, std, num_data=1000000, num_samples=1000):\n",
        "  \"\"\"Return a 1D array of num_samples with mean and std\"\"\"\n",
        "\n",
        "  data = np.random.normal(mean, std, num_data)\n",
        "  hist, edges = np.histogram(data, num_samples, density=True)\n",
        "  \n",
        "  plt.plot(edges[:-1], hist, 'o', color='b', label='Observation')\n",
        "\n",
        "  plt.show()\n",
        "\n",
        "  assert len(data) == num_data\n",
        "  assert len(hist) == num_samples\n",
        "\n",
        "  return (edges[:-1], hist)"
      ],
      "execution_count": null,
      "outputs": []
    },
    {
      "cell_type": "markdown",
      "metadata": {
        "id": "R8To0fSY_Qom"
      },
      "source": [
        "This function splits the dataset into train_split of the dataset for the train set, and the remaining (1 - train_split) for the test set.\n",
        "\n",
        "Both the train and test sets are said to be independent and identically distributed random variables as the samples in these sets come from the same probability distribution (the earlier provided 1D Gaussian), and are not dependent on other values. The latter comes as an effect of randomly selecting samples."
      ]
    },
    {
      "cell_type": "code",
      "metadata": {
        "id": "enzcpJx1Egk7"
      },
      "source": [
        "def split_dataset(dataset, train_split=0.9):\n",
        "  \"\"\"Return dataset assigned to either the train and test sets\"\"\"\n",
        "\n",
        "  temp_data = np.copy(dataset)\n",
        "  np.random.shuffle(temp_data)\n",
        "\n",
        "  sample, label = temp_data\n",
        "\n",
        "  x_train = sample[:(int(train_split * len(sample)))]\n",
        "  y_train = label[:(int(train_split * len(label)))]\n",
        "  x_test = sample[(int(train_split * len(sample))):]\n",
        "  y_test = label[(int(train_split * len(label))):]\n",
        "\n",
        "  x_train = np.expand_dims(x_train, axis=0)\n",
        "  y_train = np.expand_dims(y_train, axis=0)\n",
        "  x_test = np.expand_dims(x_test, axis=0)\n",
        "  y_test = np.expand_dims(y_test, axis=0)\n",
        "\n",
        "  assert x_train.shape == (1, len(sample) * train_split)\n",
        "  assert y_train.shape == (1, len(label) * train_split)\n",
        "  assert x_test.shape == (1, round(len(sample) * (1 - train_split)))\n",
        "  assert y_test.shape == (1, round(len(label) * (1 - train_split)))\n",
        "\n",
        "  return x_train, y_train, x_test, y_test"
      ],
      "execution_count": null,
      "outputs": []
    },
    {
      "cell_type": "markdown",
      "metadata": {
        "id": "sB-6eQw4soNE"
      },
      "source": [
        "x_train, y_train, x_test, and y_test should all have the dimensions of (input_size, number_of_samples). In this case, it is (1, 900) or (1, 100)."
      ]
    },
    {
      "cell_type": "code",
      "metadata": {
        "id": "xrAYMwFnQeqP"
      },
      "source": [
        ""
      ],
      "execution_count": null,
      "outputs": []
    },
    {
      "cell_type": "markdown",
      "metadata": {
        "id": "MV5nHBVoBO89"
      },
      "source": [
        "This function initializes the parameters.\n",
        "\n",
        "Biases are zero initialized with the shape (layer_dims[n], 1) where n is the nth layer, and layer_dims[n] would be the dimension for the (hidden) layer.\n",
        "\n",
        "Weights are initialized as a Gaussian distribution with zero mean and 0.01 std. It's also good to note that the weights are small.\n",
        "\n",
        "A dict is returned so that it will be easier to iterate through, and also in the hopes that it might be translatable/understood in equation form when used.\n",
        "\n",
        "With a 3-layer neural network, there are (1 input layer,) 2 hidden layers and 1 output layer."
      ]
    },
    {
      "cell_type": "code",
      "metadata": {
        "id": "vY_6jYbQVVpT"
      },
      "source": [
        "def init_parameters(net_arch):\n",
        "  \"\"\"Return weights and biases for layers\n",
        "  \n",
        "  Argument:\n",
        "    * net_arch: Contains a description of the layers\n",
        "  \"\"\"\n",
        "\n",
        "  parameters = {}\n",
        "\n",
        "  for layer_n, layer_desc in enumerate(net_arch):\n",
        "    parameters[f\"b{layer_n}\"] = np.zeros((layer_desc[\"output_dim\"], 1))\n",
        "    assert parameters[f\"b{layer_n}\"].shape == (layer_desc[\"output_dim\"], 1)\n",
        "\n",
        "    parameters[f\"w{layer_n}\"] = np.random.normal(0, 0.01, (layer_desc[\"output_dim\"], layer_desc[\"input_dim\"]))\n",
        "    assert parameters[f\"w{layer_n}\"].shape == (layer_desc[\"output_dim\"], layer_desc[\"input_dim\"])\n",
        "  \n",
        "  return parameters"
      ],
      "execution_count": null,
      "outputs": []
    },
    {
      "cell_type": "markdown",
      "metadata": {
        "id": "hlVYFLiCWj65"
      },
      "source": [
        "## Forward Propagation\n",
        "\n",
        "The functions below are for an easier and abstracted calculation for sigmoid and ReLU."
      ]
    },
    {
      "cell_type": "code",
      "metadata": {
        "id": "fa4zHZsfWW-N"
      },
      "source": [
        "def sigmoid(x):\n",
        "  return 1 / (1 + np.exp(-x))\n",
        "\n",
        "def relu(x):\n",
        "  return np.maximum(0, x)"
      ],
      "execution_count": null,
      "outputs": []
    },
    {
      "cell_type": "markdown",
      "metadata": {
        "id": "vAgRGidFfEiJ"
      },
      "source": [
        "Equations used in forward propagation are:\n",
        "\n",
        "- $Z_n = W_{n-1}A_{n-1} + b_{n-1}$, where $Z_n$ is the linear function passed to the activation function, $W_{n-1}$ are the weights from the previous layer, $A_{n-1}$ is the activation from the previous layer, $b_{n-1}$ are the biases from the previous layer, and $n$ denotes the number of layers in the network.\n",
        "- $A_n = \\sigma_n(Z_n)$. A sigmoid is used as the activation function for the last layer.\n",
        "- $A_{n-1} = ReLU(Z_{n-1})$. ReLU is used as the activation function for all of the other layers.\n",
        "\n",
        "A cache is implemented to store variables computed for each layer. These might be useful during backpropagation."
      ]
    },
    {
      "cell_type": "code",
      "metadata": {
        "id": "HYmyousXfZZb"
      },
      "source": [
        "def forwardprop(X, WB, num_layer):\n",
        "  \"\"\"Return the last activation function and the cache dict in preparation for backprop\"\"\"\n",
        "\n",
        "  caches = {}\n",
        "\n",
        "  a = X\n",
        "\n",
        "  for n_layer in range(1, num_layer + 1):\n",
        "    prev_a = a\n",
        "    prev_w = WB[f\"w{n_layer - 1}\"]\n",
        "    prev_b = WB[f\"b{n_layer - 1}\"]\n",
        "\n",
        "    z = np.dot(prev_w, prev_a) + prev_b\n",
        "    if n_layer < num_layer:\n",
        "      a = relu(z)\n",
        "    else:\n",
        "      a = sigmoid(z)\n",
        "    \n",
        "    caches[f\"layer_{n_layer}\"] = {\n",
        "        \"prev_a\": prev_a,\n",
        "        \"prev_w\": prev_w,\n",
        "        \"prev_b\": prev_b,\n",
        "        \"z\": z\n",
        "    }\n",
        "  \n",
        "  assert a.shape == (1, X.shape[1])\n",
        "\n",
        "  return a, caches"
      ],
      "execution_count": null,
      "outputs": []
    },
    {
      "cell_type": "markdown",
      "metadata": {
        "id": "n25_Vjth4amL"
      },
      "source": [
        "Quick note that `z` is used as the basis for the cache keys, e.g., for `layer_3` in `caches`, what is present are: $z_3$, $a_2$, $W_2$, and $b_2$. This type of grouping together of variables can make it easier to do backpropagation."
      ]
    },
    {
      "cell_type": "code",
      "metadata": {
        "id": "b3-I-WQC1HS5"
      },
      "source": [
        "# a_last, activation_caches = forwardprop(x_train, parameters, len(parameters) // 2)"
      ],
      "execution_count": null,
      "outputs": []
    },
    {
      "cell_type": "markdown",
      "metadata": {
        "id": "NzuEexlQDr8K"
      },
      "source": [
        "## Cost\n",
        "\n",
        "Mean Squared Error has the following formula:\n",
        "\n",
        "$MSE = \\frac{1}{m}\\sum_{i=0}^m(Y_i-\\hat{Y}_i)^2$\n",
        "\n",
        "$Y$ are the labels, $\\hat{Y}$ are the predictions, and $m$ is the number of samples.\n",
        "\n",
        "This will be used to check how close or far off the prediction is from the ground truth/label."
      ]
    },
    {
      "cell_type": "code",
      "metadata": {
        "id": "r3lZdAYn-FjY"
      },
      "source": [
        "def mse_loss(gt_y, y):\n",
        "  m = y.shape[1]\n",
        "  cost = np.mean(np.power(gt_y - y, 2))\n",
        "  return cost"
      ],
      "execution_count": null,
      "outputs": []
    },
    {
      "cell_type": "markdown",
      "metadata": {
        "id": "OF2BL_FHD3cf"
      },
      "source": [
        "## Backpropagation\n",
        "\n",
        "With backpropagation, the interest is in decreasing the cost between the predictions and the labels. Backprop starts at the last layer, and will end at the first layer. Computations regarding the backprop are shown below.\n",
        "\n",
        "### General\n",
        "\n",
        "In general, what are needed are $\\frac{\\partial{L}}{\\partial{W_{n-1 ... 0}}}$ and $\\frac{\\partial{L}}{\\partial{b_{n-1 ... 0}}}$, where $L$ is the loss/cost function, $W$ are the weights, and $b$ are the biases. The weights and biases are adjusted in order to reduce the value of the cost function.\n",
        "\n",
        "### From the Output to Hidden Layer 2\n",
        "\n",
        "What is being sought are $\\frac{\\partial{L}}{\\partial{W_2}}$ and $\\frac{\\partial{L}}{\\partial{b_2}}$.\n",
        "\n",
        "\\begin{align}\n",
        "\\frac{\\partial{L}}{\\partial{W_2}} &= \\frac{\\partial{L}}{\\partial{Z_3}} \\frac{\\partial{Z_3}}{\\partial{W_{2}}}  \\tag{1}\\\\\n",
        "\\frac{\\partial{L}}{\\partial{b_2}} &= \\frac{\\partial{L}}{\\partial{Z_3}} \\frac{\\partial{Z_3}}{\\partial{b_{2}}} \\tag{2}\n",
        "\\end{align}\n",
        "\n",
        "The common term $\\frac{\\partial{L}}{\\partial{Z_3}}$ can be solved as shown below:\n",
        "\n",
        "\\begin{align}\n",
        "\\frac{\\partial{L}}{\\partial{Z_3}} &= \\frac{\\partial{L}}{\\partial{A_3}} \\frac{\\partial{A_3}}{\\partial{Z_3}} \\tag{3} \\\\\n",
        "\\frac{\\partial{L}}{\\partial{A_3}} &= \\frac{\\partial{(\\frac{1}{m}\\sum_{i=0}^m(Y_i-\\hat{Y}_i)^2)}}{\\partial{A_3}} = \\frac{\\partial{(\\frac{1}{m}\\sum_{i=0}^m(Y-A_3)^2)}}{\\partial{A_3}} \\\\\n",
        "\\frac{\\partial{L}}{\\partial{A_3}} &= -\\frac{2}{m}(Y - A_3) \\tag{4} \\\\\n",
        "\\frac{\\partial{A_3}}{\\partial{Z_3}} &= \\frac{\\partial({\\sigma({Z_3}))}}{\\partial{Z_3}} \\\\\n",
        "\\frac{\\partial{A_3}}{\\partial{Z_3}} &= \\sigma({Z_3})(1-\\sigma({Z_3})) \\tag{5} \\\\\n",
        "\\frac{\\partial{L}}{\\partial{Z_3}} &= ( -\\frac{2}{m}(Y - A_3))(\\sigma({Z_3})(1-\\sigma({Z_3}))) \\tag{6 (4, 5 to 3)}\n",
        "\\end{align}\n",
        "\n",
        "The term $\\frac{\\partial{Z_3}}{\\partial{W_{2}}}$ can be solved as shown below:\n",
        "\n",
        "\\begin{align}\n",
        "\\frac{\\partial{Z_3}}{\\partial{W_{2}}} &= \\frac{\\partial(W_{2}A_{2}+b_{2})}{\\partial{W_{2}}} \\\\\n",
        "\\frac{\\partial{Z_3}}{\\partial{W_{2}}} &= A_{2} \\tag{7} \\\\\n",
        "\\end{align}\n",
        "\n",
        "Lastly, the term $\\frac{\\partial{Z_3}}{\\partial{b_{2}}}$ can be solved as shown below:\n",
        "\n",
        "\\begin{align}\n",
        "\\frac{\\partial{Z_3}}{\\partial{b_{2}}} &= \\frac{\\partial(W_{2}A_{2}+b_{2})}{\\partial{b_{2}}} \\\\\n",
        "\\frac{\\partial{Z_3}}{\\partial{b_{2}}} &= 1 \\tag{8} \\\\\n",
        "\\end{align}\n",
        "\n",
        "Combining all of these yield:\n",
        "\n",
        "\\begin{align}\n",
        "\\frac{\\partial{L}}{\\partial{W_2}} &= (-\\frac{2}{m}(Y - A_3))(\\sigma({Z_3})(1-\\sigma({Z_3}))) A_{2}  \\tag{9 (6, 7 to 1)}\\\\\n",
        "\\frac{\\partial{L}}{\\partial{b_2}} &= (-\\frac{2}{m}(Y - A_3))(\\sigma({Z_3})(1-\\sigma({Z_3}))) \\tag{10 (6, 8 to 2)}\n",
        "\\end{align}\n",
        "\n",
        "### From Hidden Layer 2 to Hidden Layer 1\n",
        "\n",
        "What is being sought are $\\frac{\\partial{L}}{\\partial{W_1}}$ and $\\frac{\\partial{L}}{\\partial{b_1}}$.\n",
        "\n",
        "\\begin{align}\n",
        "\\frac{\\partial{L}}{\\partial{W_1}} &= \\frac{\\partial{L}}{\\partial{Z_2}} \\frac{\\partial{Z_2}}{\\partial{W_1}}  \\tag{11}\\\\\n",
        "\\frac{\\partial{L}}{\\partial{b_1}} &= \\frac{\\partial{L}}{\\partial{Z_2}} \\frac{\\partial{Z_2}}{\\partial{b_1}} \\tag{12}\n",
        "\\end{align}\n",
        "\n",
        "Following the computations from earlier, $\\frac{\\partial{Z_2}}{\\partial{W_1}}$ and $\\frac{\\partial{Z_2}}{\\partial{b_1}}$ can already be computed.\n",
        "\n",
        "\\begin{align}\n",
        "\\frac{\\partial{Z_2}}{\\partial{W_1}} &= A_1 \\tag{13} \\\\\n",
        "\\frac{\\partial{Z_2}}{\\partial{b_1}} &= 1 \\tag{14}\n",
        "\\end{align}\n",
        "\n",
        "The common term $\\frac{\\partial{L}}{\\partial{Z_2}}$ can be solved as shown below:\n",
        "\n",
        "\\begin{align}\n",
        "\\frac{\\partial{L}}{\\partial{Z_2}} &= \\frac{\\partial{L}}{\\partial{Z_3}}\\frac{\\partial{Z_3}}{\\partial{A_2}}\\frac{\\partial{A_2}}{\\partial{Z_2}} \\tag{15} \\\\\n",
        "\\frac{\\partial{Z_3}}{\\partial{A_2}} &= \\frac{\\partial{(W_2 A_2 + b_2)}}{A_2} = W_2 \\tag{16} \\\\\n",
        "\\frac{\\partial{A_2}}{\\partial{Z_2}} &= \\frac{\\partial{(ReLU(Z_2))}}{\\partial{Z_2}} \\tag{17} \\\\\n",
        "\\frac{\\partial{L}}{\\partial{Z_2}} &= \\frac{\\partial{L}}{\\partial{Z_3}}W_2\\frac{\\partial{(ReLU(Z_2))}}{\\partial{Z_2}} \\tag{18 (16, 17 to 15)}\n",
        "\\end{align}\n",
        "\n",
        "Combining all of those yield:\n",
        "\n",
        "\\begin{align}\n",
        "\\frac{\\partial{L}}{\\partial{W_1}} &= \\frac{\\partial{L}}{\\partial{Z_3}}W_2\\frac{\\partial{(ReLU(Z_2))}}{\\partial{Z_2}} A_1  \\tag{19 (18, 13 to 11)} \\\\\n",
        "\\frac{\\partial{L}}{\\partial{b_1}} &= \\frac{\\partial{L}}{\\partial{Z_3}}W_2\\frac{\\partial{(ReLU(Z_2))}}{\\partial{Z_2}} \\tag{20 (18, 14 to 12)} \\\\\n",
        "\\end{align}\n",
        "\n",
        "### From Hidden Layer 1 to the Input\n",
        "\n",
        "The equations for this last stage of the backpropagation are derived as follows:\n",
        "\n",
        "\\begin{align}\n",
        "\\frac{\\partial{L}}{\\partial{W_0}} &= \\frac{\\partial{L}}{\\partial{Z_1}} \\frac{\\partial{Z_1}}{\\partial{W_0}} = \\frac{\\partial{L}}{\\partial{Z_1}}x  \\tag{21}\\\\\n",
        "\\frac{\\partial{L}}{\\partial{b_0}} &= \\frac{\\partial{L}}{\\partial{Z_1}} \\frac{\\partial{Z_1}}{\\partial{b_0}} = \\frac{\\partial{L}}{\\partial{Z_1}} \\tag{22}\n",
        "\\end{align}\n",
        "\n",
        "From the derivation of the backprop, it can be noted that it might be a good idea to store the derived gradients for future use. In the same way that `caches` was previously used to store forwardprop results, `grads` will be used to store backprop results that might be used."
      ]
    },
    {
      "cell_type": "markdown",
      "metadata": {
        "id": "f2WbzYj2F35X"
      },
      "source": [
        "The functions below are for an easier and abstracted calculation for the derivatives of sigmoid and ReLU."
      ]
    },
    {
      "cell_type": "code",
      "metadata": {
        "id": "lbQ9_a_exWvL"
      },
      "source": [
        "def d_sigmoid(x):\n",
        "  return sigmoid(x) * (1 - sigmoid(x))\n",
        "\n",
        "def d_relu(da, z):\n",
        "  x_copy = da.copy()\n",
        "  x_copy[z > 0] = 1\n",
        "  x_copy[z <= 0] = 0\n",
        "\n",
        "  return x_copy"
      ],
      "execution_count": null,
      "outputs": []
    },
    {
      "cell_type": "code",
      "metadata": {
        "id": "RbpizoXmF-Qy"
      },
      "source": [
        "def backprop(X, Y, a, caches):\n",
        "  num_layer = len(caches)\n",
        "  grads = {}\n",
        "\n",
        "  # Output to Hidden Layer 2\n",
        "  len_a3 = a.shape[1]\n",
        "  d_a3 = (-2 * (Y - a))\n",
        "  d_z3 = d_sigmoid(caches[\"layer_3\"][\"z\"])\n",
        "  d_l3 = d_a3 * d_z3\n",
        "  grads[\"dw2\"] = np.dot(d_l3, caches[\"layer_3\"][\"prev_a\"].T) / a.shape[1]\n",
        "  grads[\"db2\"] = np.sum(d_l3, axis=1, keepdims=True) / a.shape[1]\n",
        "\n",
        "  assert caches[\"layer_3\"][\"prev_w\"].shape == grads[\"dw2\"].shape\n",
        "  assert caches[\"layer_3\"][\"prev_b\"].shape == grads[\"db2\"].shape\n",
        "\n",
        "  # Hidden Layer 2 to Hidden Layer 1\n",
        "  d_a2 = np.dot(caches[\"layer_3\"][\"prev_w\"].T, d_l3)\n",
        "  d_z2 = d_relu(d_a2, caches[\"layer_2\"][\"z\"])\n",
        "  d_l2 = d_a2 * d_z2\n",
        "  grads[\"dw1\"] = np.dot(d_l2, caches[\"layer_2\"][\"prev_a\"].T) / caches[\"layer_2\"][\"prev_a\"].shape[1]\n",
        "  grads[\"db1\"] = np.sum(d_l2, axis=1, keepdims=True) / caches[\"layer_2\"][\"prev_a\"].shape[1]\n",
        "\n",
        "  assert caches[\"layer_2\"][\"prev_w\"].shape == grads[\"dw1\"].shape\n",
        "  assert caches[\"layer_2\"][\"prev_b\"].shape == grads[\"db1\"].shape\n",
        "\n",
        "  # Hidden Layer 1 to Input\n",
        "  d_a1 = np.dot(caches[\"layer_2\"][\"prev_w\"].T, d_l2)\n",
        "  d_z1 = d_relu(d_a1, caches[\"layer_1\"][\"z\"])\n",
        "  d_l1 = d_a1 * d_z1\n",
        "  grads[\"dw0\"] = np.dot(d_l1, caches[\"layer_1\"][\"prev_a\"].T) / caches[\"layer_1\"][\"prev_a\"].shape[1]\n",
        "  grads[\"db0\"] = np.sum(d_l1, axis=1, keepdims=True) / caches[\"layer_1\"][\"prev_a\"].shape[1]\n",
        "\n",
        "  assert caches[\"layer_1\"][\"prev_w\"].shape == grads[\"dw0\"].shape\n",
        "  assert caches[\"layer_1\"][\"prev_b\"].shape == grads[\"db0\"].shape\n",
        "\n",
        "  return grads"
      ],
      "execution_count": null,
      "outputs": []
    },
    {
      "cell_type": "code",
      "metadata": {
        "id": "agGyaG5rNsa3"
      },
      "source": [
        "# wb_grads = backprop(x_train, y_train, a_last, activation_caches)"
      ],
      "execution_count": null,
      "outputs": []
    },
    {
      "cell_type": "code",
      "metadata": {
        "id": "_rJijZ0gK9gF"
      },
      "source": [
        "def update_params(WB, grads, learning_rate=0.1):\n",
        "  num_layer = len(WB) // 2\n",
        "\n",
        "  for n_layer in range(num_layer):\n",
        "    WB[f\"w{n_layer}\"] = WB[f\"w{n_layer}\"] - learning_rate * grads[f\"dw{n_layer}\"]\n",
        "    WB[f\"b{n_layer}\"] = WB[f\"b{n_layer}\"] - learning_rate * grads[f\"db{n_layer}\"]\n",
        "  \n",
        "  return WB"
      ],
      "execution_count": null,
      "outputs": []
    },
    {
      "cell_type": "code",
      "metadata": {
        "id": "pLmJXhS7z3Bm"
      },
      "source": [
        "def train(X, Y, net_out, learning_rate=0.1, epochs=20):\n",
        "  params = init_parameters(net_out)\n",
        "\n",
        "  for epoch in range(epochs):\n",
        "    a_last, activation_caches = forwardprop(X, params, len(params) // 2)\n",
        "    cost = mse_loss(Y, a_last)\n",
        "    print(f\"Epoch[{epoch + 1}] cost: {cost}\")\n",
        "    wb_grads = backprop(X, Y, a_last, activation_caches)\n",
        "    params = update_params(params, wb_grads, learning_rate)\n",
        "  \n",
        "  return params"
      ],
      "execution_count": null,
      "outputs": []
    },
    {
      "cell_type": "markdown",
      "metadata": {
        "id": "zddpynfoWpgD"
      },
      "source": [
        "A dict outlining the network is used as a form of cohesion check, and something to refer to when checking out the layer dimensions."
      ]
    },
    {
      "cell_type": "code",
      "metadata": {
        "colab": {
          "base_uri": "https://localhost:8080/",
          "height": 632
        },
        "id": "RJi8tKAD1SF_",
        "outputId": "954b1840-8256-472d-9032-d491320385f7"
      },
      "source": [
        "# Provide standard deviation and mean\n",
        "mean = 1.5\n",
        "std = 3\n",
        "\n",
        "dataset = generate_samples(mean, std)\n",
        "x_train, y_train, x_test, y_test = split_dataset(dataset)\n",
        "\n",
        "network_outline = [\n",
        "  { \"input_dim\": x_train.shape[0], \"output_dim\": 64 },\n",
        "  { \"input_dim\": 64, \"output_dim\": 64 },\n",
        "  { \"input_dim\": 64, \"output_dim\": 1 }\n",
        "]\n",
        "\n",
        "parameters = train(x_train, y_train, network_outline)"
      ],
      "execution_count": null,
      "outputs": [
        {
          "output_type": "display_data",
          "data": {
            "image/png": "[encoded data removed]",
            "text/plain": [
              "<Figure size 432x288 with 1 Axes>"
            ]
          },
          "metadata": {
            "tags": [],
            "needs_background": "light"
          }
        },
        {
          "output_type": "stream",
          "text": [
            "Epoch[1] cost: 0.21390006970238473\n",
            "Epoch[2] cost: 0.2086273621085112\n",
            "Epoch[3] cost: 0.20348883650229665\n",
            "Epoch[4] cost: 0.198482918864011\n",
            "Epoch[5] cost: 0.1936082298343126\n",
            "Epoch[6] cost: 0.1888632069373965\n",
            "Epoch[7] cost: 0.18424617740239538\n",
            "Epoch[8] cost: 0.179755312636723\n",
            "Epoch[9] cost: 0.17538862218107804\n",
            "Epoch[10] cost: 0.17114401066563148\n",
            "Epoch[11] cost: 0.16701918399185367\n",
            "Epoch[12] cost: 0.16301172773626937\n",
            "Epoch[13] cost: 0.15911912473457632\n",
            "Epoch[14] cost: 0.15533881226137397\n",
            "Epoch[15] cost: 0.1516682836608499\n",
            "Epoch[16] cost: 0.14810487437590122\n",
            "Epoch[17] cost: 0.14464603834421247\n",
            "Epoch[18] cost: 0.14128917445271538\n",
            "Epoch[19] cost: 0.13803156458442342\n",
            "Epoch[20] cost: 0.13487049628612788\n"
          ],
          "name": "stdout"
        }
      ]
    },
    {
      "cell_type": "markdown",
      "metadata": {
        "id": "w7XYF6mGGx2q"
      },
      "source": [
        "## Evaluation\n",
        "\n",
        "Below are graphs that help in analyzing the predictions. A `predict` function wraps the forward propagation function, but this time with the parameters found after training."
      ]
    },
    {
      "cell_type": "code",
      "metadata": {
        "id": "FfFXCPLn-PnP"
      },
      "source": [
        "def predict(X, params):\n",
        "  a_last, _ = forwardprop(X, params, len(params) // 2)\n",
        "\n",
        "  return a_last"
      ],
      "execution_count": null,
      "outputs": []
    },
    {
      "cell_type": "markdown",
      "metadata": {
        "id": "qwIKcvVLLmTu"
      },
      "source": [
        "While the cost can get relatively low, the predictions appear to be far off the actual labels. Though it can be observed that the train predictions are of similar shape to the train dataset: the mean of the predictions appear to be close to the mean of the dataset, and lower probabilities are found at the edges of the curve. There are also some slightly noticeable bumps that are somewhat around the standard deviation range.\n",
        "\n",
        "It should also be noted that predictions can become closer if `learning_rate` is set to 1 and `epochs` is made larger."
      ]
    },
    {
      "cell_type": "code",
      "metadata": {
        "colab": {
          "base_uri": "https://localhost:8080/",
          "height": 388
        },
        "id": "CFtBk7qK-aTa",
        "outputId": "7419fd98-f0be-4512-9bc1-eb873a14fcba"
      },
      "source": [
        "y_train_res = predict(x_train, parameters)\n",
        "\n",
        "fig, ((ax1, ax2, ax3)) = plt.subplots(nrows=1, ncols=3, figsize=(12, 5), dpi=80)\n",
        "\n",
        "ax1.plot(x_train, y_train, 'o', color='b', label='Observation')\n",
        "ax1.set_title(\"Train Samples\")\n",
        "\n",
        "ax2.plot(x_train, y_train_res, 'x', color='r')\n",
        "ax2.set_title(\"Train Prediction\")\n",
        "\n",
        "ax3.plot(x_train, y_train, 'o', color='b', label='Observation')\n",
        "ax3.plot(x_train, y_train_res, 'x', color='r')\n",
        "ax3.set_title(\"Train Combined\")\n",
        "\n",
        "plt.tight_layout(pad=2.0, w_pad=2.0, h_pad=2.0)\n",
        "plt.show()"
      ],
      "execution_count": null,
      "outputs": [
        {
          "output_type": "display_data",
          "data": {
            "image/png": "[encoded data removed]",
            "text/plain": [
              "<Figure size 960x400 with 3 Axes>"
            ]
          },
          "metadata": {
            "tags": [],
            "needs_background": "light"
          }
        }
      ]
    }
  ]
}