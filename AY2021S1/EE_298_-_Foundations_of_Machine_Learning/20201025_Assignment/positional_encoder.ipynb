{
  "nbformat": 4,
  "nbformat_minor": 0,
  "metadata": {
    "colab": {
      "name": "positional_encoder.ipynb",
      "provenance": [],
      "collapsed_sections": []
    },
    "kernelspec": {
      "name": "python3",
      "display_name": "Python 3"
    }
  },
  "cells": [
    {
      "cell_type": "markdown",
      "metadata": {
        "id": "u4MHKDhCkoG_"
      },
      "source": [
        "# Positional Encoders\n",
        "\n",
        "A small disclaimer that the ensuing discuussion is merely some form of sanity/understanding check with the generated code. For imagination/visualization purposes, positional encoders for words/sentences is made use of as an example.\n",
        "\n",
        "Positional encoders provide information regarding a, for example, word's place in a sentence. In order to introduce order, the easiest way might be to introduce some integer or number that says about a word's position, e.g., for a sentence \"The quick brown fox jumped over the lazy dog\", the position of \"The\" would be 0 and the position of \"jumped\" would be 4. However, the problem with this is that this number might get too large, and it might not scale well.\n",
        "\n",
        "Another solution might be to \"map\" words from [0, 1], with each step in between words being equidistant. However, this can also provide some difficulties in that varied length of sentences will produce wildly different results, i.e., if mapping is done from [0, 1], the difference between \"positions\" in sentences with varying lengths will not be the same, and finding the length of the sentence will also be difficult in this case."
      ]
    },
    {
      "cell_type": "code",
      "metadata": {
        "id": "4CMH9_yz5smp"
      },
      "source": [
        "import numpy as np\n",
        "import matplotlib.pyplot as plt"
      ],
      "execution_count": 1,
      "outputs": []
    },
    {
      "cell_type": "code",
      "metadata": {
        "id": "ip1SKL4ut0zb"
      },
      "source": [
        "def get_rad_list(pos, i, d_model):\n",
        "  angle_rates = 1 / np.power(10000, (2 * (i//2)) / np.float32(d_model))\n",
        "  res = pos * angle_rates\n",
        "  return res"
      ],
      "execution_count": 2,
      "outputs": []
    },
    {
      "cell_type": "markdown",
      "metadata": {
        "id": "JW4V9TNduNpJ"
      },
      "source": [
        "The formula for calculating positional encodings, as described in the Attention Is All You Need paper, makes use of:\n",
        "\n",
        "*   PE(pos, 2i) = sin(pos / 10000^(2i / d))\n",
        "*   PE(pos, 2i + 1) = cos(pos / 10000^(2i / d))\n",
        "\n",
        "This could also, quite possibly, be looked at as:\n",
        "\n",
        "*   PE(pos, 2i) = sin(omega \\* t)\n",
        "*   PE(pos, 2i + 1) = cos(omega \\* t)\n",
        "\n",
        "Where t is the position (time and position can be seen as quite similar for this case), and omega pertains to the frequency.\n",
        "\n",
        "The assignment requires that the domain of 16-dim is distributed between 0 and 2*pi.\n",
        "\n",
        "This approach is taken: instead of making use directly of the position, makes use of [0, ..., 2\\*pi] in such a manner that this array will have a length equal to the maximum position value (16 in this case). In replacing pos with this array, the value of the variables to be passed to the sine functions is limited from 0 to 2\\*pi.\n",
        "\n",
        "Another possible interpretation might be that it's omega that needs to be from 0 to 2\\*pi, i.e., pos is kept as is."
      ]
    },
    {
      "cell_type": "code",
      "metadata": {
        "id": "KgvhBRUliggL"
      },
      "source": [
        "def positional_encoding(position, d_model):\n",
        "  v_pos = np.linspace(0, 2 * np.pi, num=d_model)[:, np.newaxis]\n",
        "  v_dim = np.arange(d_model)[np.newaxis, :]\n",
        "  rad_list = get_rad_list(v_pos, v_dim, d_model)\n",
        "\n",
        "  # apply sin() to even\n",
        "  rad_list[:, 0::2] = np.sin(rad_list[:, 0::2])\n",
        "\n",
        "  # apply cos() to odd\n",
        "  rad_list[:, 1::2] = np.cos(rad_list[:, 1::2])\n",
        "\n",
        "  return rad_list[np.newaxis, ...]"
      ],
      "execution_count": 3,
      "outputs": []
    },
    {
      "cell_type": "code",
      "metadata": {
        "id": "9VcngNzcuoI2",
        "outputId": "362b2649-11be-4efe-8e03-5433c6a1b8c6",
        "colab": {
          "base_uri": "https://localhost:8080/",
          "height": 501
        }
      },
      "source": [
        "tokens = 16\n",
        "dimensions = 16\n",
        "\n",
        "pos_encoding = positional_encoding(tokens, dimensions)\n",
        "\n",
        "plt.figure(figsize=(12,8))\n",
        "plt.pcolormesh(pos_encoding[0], cmap='plasma_r')\n",
        "\n",
        "plt.xlabel('Embedding Dimensions')\n",
        "plt.xlim((0, dimensions))\n",
        "plt.xticks(np.arange(0, dimensions, step=1))\n",
        "\n",
        "plt.ylabel('Token Position')\n",
        "plt.ylim((0, tokens))\n",
        "plt.yticks(np.arange(0, tokens, step=1))\n",
        "\n",
        "plt.colorbar()\n",
        "plt.show()"
      ],
      "execution_count": 12,
      "outputs": [
        {
          "output_type": "display_data",
          "data": {
            "image/png": "[encoded data removed]",
            "text/plain": [
              "<Figure size 864x576 with 2 Axes>"
            ]
          },
          "metadata": {
            "tags": [],
            "needs_background": "light"
          }
        }
      ]
    },
    {
      "cell_type": "markdown",
      "metadata": {
        "id": "xUcEa4tL9uk9"
      },
      "source": [
        "If the functions Bt (B subscript t, where t is the position) are basis vectors, their orthogonality and orthonormality are then checked.\n",
        "\n",
        "One of the properties of an orthogonal square matrix is that when the matrix and its transpose are multiplied, the resulting matrix should be an identity matrix, that is, if the columns of the matrix are orthonormal."
      ]
    },
    {
      "cell_type": "code",
      "metadata": {
        "id": "apHG8sSc_CUq"
      },
      "source": [
        "def check_orthogonal_matrix(matrix):\n",
        "  # This will throw an error if it's not a square matrix\n",
        "  assert matrix.shape[1] == matrix.shape[2]\n",
        "\n",
        "  matrix_res = matrix @ matrix.T\n",
        "\n",
        "  matrix_id = np.eye(N=matrix.shape[1], M=matrix.shape[2])\n",
        "  matrix_id = np.expand_dims(matrix_id, 2)\n",
        "\n",
        "  check_if_res_id_eq = np.all(np.equal(matrix_res, matrix_id))\n",
        "  # print(f\"Is matrix * matrix_transpose = identity? {'Yes' if check_if_res_id_eq else 'No'}\")\n",
        "\n",
        "  matrix_inv = np.linalg.inv(matrix)\n",
        "\n",
        "  check_if_inv_t_eq = np.all(np.equal(matrix_inv, matrix.T))\n",
        "  # print(f\"Is matrix_inverse = matrix_transpose? {'Yes' if check_if_inv_t_eq else 'No'}\")\n",
        "\n",
        "  return check_if_res_id_eq and check_if_inv_t_eq"
      ],
      "execution_count": 5,
      "outputs": []
    },
    {
      "cell_type": "code",
      "metadata": {
        "id": "HuBbYxjxJMjW",
        "outputId": "11b5e19e-ca05-41cf-d845-96b7ddb76db7",
        "colab": {
          "base_uri": "https://localhost:8080/",
          "height": 35
        }
      },
      "source": [
        "print(f\"Is the matrix orthogonal? {'Yes' if check_orthogonal_matrix(pos_encoding) else 'No'}\")"
      ],
      "execution_count": 6,
      "outputs": [
        {
          "output_type": "stream",
          "text": [
            "Is the matrix orthogonal? No\n"
          ],
          "name": "stdout"
        }
      ]
    },
    {
      "cell_type": "markdown",
      "metadata": {
        "id": "E7uYbZRxG2Pd"
      },
      "source": [
        "From the quick check above, it seems that the basis vectors (found in `pos_encoding`) are not orthogonal and orthonormal.\n",
        "\n",
        "The Gram-Schmidt Process is used to get the orthonormal basis vectors.\n",
        "\n",
        "Two approaches can be found below. One makes use of a more manual computation, and the other makes use of QR decomposition."
      ]
    },
    {
      "cell_type": "code",
      "metadata": {
        "id": "SfckP34SL2DL"
      },
      "source": [
        "def gs_process(orig_matrix):\n",
        "  matrix = np.copy(orig_matrix)\n",
        "  matrix = np.squeeze(matrix, axis=0)\n",
        "\n",
        "  # This will throw an error if it's not a square matrix\n",
        "  assert matrix.shape[0] == matrix.shape[1]\n",
        "\n",
        "  for i in range(1, matrix.shape[1]):\n",
        "    for j in range(i):\n",
        "      matrix[:, i] -= np.dot(matrix[:, j], matrix[:, i])/np.dot(matrix[:, j], matrix[:, j]) * matrix[:, j]\n",
        "    matrix[:, i] /= np.linalg.norm(matrix[:, i])\n",
        "\n",
        "  return np.expand_dims(matrix, axis=0)"
      ],
      "execution_count": 7,
      "outputs": []
    },
    {
      "cell_type": "code",
      "metadata": {
        "id": "6DxeL8FGb7aT"
      },
      "source": [
        "def gs_qr(orig_matrix):\n",
        "  matrix = np.copy(orig_matrix)\n",
        "  matrix = np.squeeze(matrix, axis=0)\n",
        "\n",
        "  # This will throw an error if it's not a square matrix\n",
        "  assert matrix.shape[0] == matrix.shape[1]\n",
        "\n",
        "  Q, R = np.linalg.qr(matrix)\n",
        "\n",
        "  return np.expand_dims(Q, axis=0)"
      ],
      "execution_count": 8,
      "outputs": []
    },
    {
      "cell_type": "markdown",
      "metadata": {
        "id": "tXed4CVpcKrq"
      },
      "source": [
        "Seen in the graph below are the now orthonormal basis vectors in position encoding.\n",
        "\n",
        "When trying out a higher valued token and dimension (e.g., 32 x 32 dim), it appears to have some form of pattern that's a mirror of the original pos_encoding matrix. After a depth of 16, or near 16, this pattern appears to disappear for the orthonormal basis."
      ]
    },
    {
      "cell_type": "code",
      "metadata": {
        "id": "XrvbCAnsRsEl",
        "outputId": "add211d7-c5c2-4ea6-862c-197c493688eb",
        "colab": {
          "base_uri": "https://localhost:8080/",
          "height": 497
        }
      },
      "source": [
        "gs_b = gs_process(pos_encoding)\n",
        "\n",
        "plt.figure(figsize=(12,8))\n",
        "plt.pcolormesh(gs_b[0], cmap='plasma_r')\n",
        "\n",
        "plt.xlabel('Embedding Dimensions')\n",
        "plt.xlim((0, dimensions))\n",
        "plt.xticks(np.arange(0, dimensions, step=1))\n",
        "\n",
        "plt.ylabel('Token Position')\n",
        "plt.ylim((0, tokens))\n",
        "plt.yticks(np.arange(0, tokens, step=1))\n",
        "\n",
        "plt.colorbar()\n",
        "plt.show()"
      ],
      "execution_count": 13,
      "outputs": [
        {
          "output_type": "display_data",
          "data": {
            "image/png": "[encoded data removed]",
            "text/plain": [
              "<Figure size 864x576 with 2 Axes>"
            ]
          },
          "metadata": {
            "tags": [],
            "needs_background": "light"
          }
        }
      ]
    }
  ]
}