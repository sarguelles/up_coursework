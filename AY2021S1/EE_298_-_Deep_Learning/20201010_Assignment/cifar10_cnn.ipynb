{
  "nbformat": 4,
  "nbformat_minor": 0,
  "metadata": {
    "colab": {
      "name": "cifar10_cnn.ipynb",
      "provenance": [],
      "collapsed_sections": []
    },
    "kernelspec": {
      "name": "python3",
      "display_name": "Python 3"
    }
  },
  "cells": [
    {
      "cell_type": "markdown",
      "metadata": {
        "id": "cIOR75HZZZeg"
      },
      "source": [
        "# EE 298 Deep Learning Assignment\n",
        "Build a classifier on CIFAR10 using:  \n",
        "a) MLP  \n",
        "b) CNN  \n",
        "Then compare the performance of both networks.\n",
        "\n",
        "## Import modules and load the dataset"
      ]
    },
    {
      "cell_type": "code",
      "metadata": {
        "id": "JGXDKX0Tn24V",
        "outputId": "6a5f67cf-8de0-40f6-85cb-0e171d03e087",
        "colab": {
          "base_uri": "https://localhost:8080/",
          "height": 35
        }
      },
      "source": [
        "import numpy as np\n",
        "import tensorflow\n",
        "from tensorflow.keras.layers import Dense, Input\n",
        "from tensorflow.keras.layers import Conv2D, MaxPooling2D, Flatten\n",
        "from tensorflow.keras.layers import concatenate\n",
        "from tensorflow.keras.models import Model\n",
        "from tensorflow.keras.datasets import cifar10\n",
        "from tensorflow.keras.utils import to_categorical\n",
        "from tensorflow.keras.optimizers import SGD\n",
        "from tensorflow.keras import regularizers, initializers\n",
        "\n",
        "# Load CIFAR10\n",
        "(x_train, y_train), (x_test, y_test) = cifar10.load_data()\n",
        "\n",
        "# Compute the number of labels\n",
        "num_labels = len(np.unique(y_train))\n",
        "print(f\"Number of labels: {num_labels}\")"
      ],
      "execution_count": 1,
      "outputs": [
        {
          "output_type": "stream",
          "text": [
            "Number of labels: 10\n"
          ],
          "name": "stdout"
        }
      ]
    },
    {
      "cell_type": "markdown",
      "metadata": {
        "id": "levoi4y4ZjUx"
      },
      "source": [
        "## Data Pre-processing"
      ]
    },
    {
      "cell_type": "code",
      "metadata": {
        "id": "ts000Jhiq8Sw"
      },
      "source": [
        "y_train = to_categorical(y_train, num_labels)\n",
        "y_test = to_categorical(y_test, num_labels)"
      ],
      "execution_count": 2,
      "outputs": []
    },
    {
      "cell_type": "code",
      "metadata": {
        "id": "giRZ5lCRq-zd"
      },
      "source": [
        "# image dimensions (assumed square)\n",
        "channel = 3\n",
        "x_size, y_size = x_train.shape[1], x_train.shape[2]\n",
        "input_shape = (x_size, y_size, channel)\n",
        "\n",
        "# resize and normalize\n",
        "x_train = np.reshape(x_train,[-1, x_size, y_size, channel])\n",
        "x_test = np.reshape(x_test,[-1, x_size, y_size, channel])\n",
        "x_train = x_train.astype('float32') / 255\n",
        "x_test = x_test.astype('float32') / 255"
      ],
      "execution_count": 3,
      "outputs": []
    },
    {
      "cell_type": "markdown",
      "metadata": {
        "id": "eNVyK1U-ZqIP"
      },
      "source": [
        "## CNN\n",
        "### Model"
      ]
    },
    {
      "cell_type": "code",
      "metadata": {
        "id": "me1rvMciLZ8t"
      },
      "source": [
        "kernel_regularizer = None\n",
        "kernel_initializer = 'glorot_uniform'\n",
        "activity_regularizer = regularizers.l2(1e-5)\n",
        "bias_regularizer=regularizers.l2(1e-5)\n",
        "\n",
        "kernel_size = 3\n",
        "dilation = 1\n",
        "right_inputs = Input(shape=input_shape)\n",
        "y = right_inputs\n",
        "depth = 2\n",
        "\n",
        "for i in range(depth):\n",
        "  y = Conv2D(filters=32,\n",
        "            kernel_size=5,\n",
        "            activation='relu',\n",
        "            dilation_rate=dilation,\n",
        "            kernel_regularizer=kernel_regularizer,\n",
        "            kernel_initializer=kernel_initializer,\n",
        "            activity_regularizer=activity_regularizer,\n",
        "            bias_regularizer=bias_regularizer,\n",
        "            padding='same')(y)\n",
        "  if i < (depth - 1):\n",
        "    y = MaxPooling2D()(y)\n",
        "\n",
        "for i in range(depth):\n",
        "  y = Conv2D(filters=64,\n",
        "            kernel_size=kernel_size,\n",
        "            activation='relu',\n",
        "            dilation_rate=dilation,\n",
        "            kernel_regularizer=kernel_regularizer,\n",
        "            kernel_initializer=kernel_initializer,\n",
        "            activity_regularizer=activity_regularizer,\n",
        "            bias_regularizer=bias_regularizer,\n",
        "            padding='same')(y)\n",
        "  if i < (depth - 1):\n",
        "    y = MaxPooling2D()(y)\n",
        "\n",
        "for i in range(depth):\n",
        "  y = Conv2D(filters=128,\n",
        "            kernel_size=kernel_size,\n",
        "            activation='relu',\n",
        "            dilation_rate=dilation,\n",
        "            kernel_regularizer=kernel_regularizer,\n",
        "            kernel_initializer=kernel_initializer,\n",
        "            activity_regularizer=activity_regularizer,\n",
        "            bias_regularizer=bias_regularizer,\n",
        "            padding='same')(y)\n",
        "  if i < (depth - 1):\n",
        "    y = MaxPooling2D()(y)"
      ],
      "execution_count": 4,
      "outputs": []
    },
    {
      "cell_type": "code",
      "metadata": {
        "id": "_42oer6r0MiY",
        "outputId": "4fcaadec-bd2d-4bb6-ca1a-93377d3b1ae6",
        "colab": {
          "base_uri": "https://localhost:8080/",
          "height": 641
        }
      },
      "source": [
        "y = Flatten()(y)\n",
        "y = Dense(128, activation='relu')(y)\n",
        "outputs = Dense(num_labels,\n",
        "                activation='softmax')(y)\n",
        "model = Model(inputs=right_inputs,\n",
        "              outputs=outputs)\n",
        "model.summary()"
      ],
      "execution_count": 5,
      "outputs": [
        {
          "output_type": "stream",
          "text": [
            "Model: \"functional_1\"\n",
            "_________________________________________________________________\n",
            "Layer (type)                 Output Shape              Param #   \n",
            "=================================================================\n",
            "input_1 (InputLayer)         [(None, 32, 32, 3)]       0         \n",
            "_________________________________________________________________\n",
            "conv2d (Conv2D)              (None, 32, 32, 32)        2432      \n",
            "_________________________________________________________________\n",
            "max_pooling2d (MaxPooling2D) (None, 16, 16, 32)        0         \n",
            "_________________________________________________________________\n",
            "conv2d_1 (Conv2D)            (None, 16, 16, 32)        25632     \n",
            "_________________________________________________________________\n",
            "conv2d_2 (Conv2D)            (None, 16, 16, 64)        18496     \n",
            "_________________________________________________________________\n",
            "max_pooling2d_1 (MaxPooling2 (None, 8, 8, 64)          0         \n",
            "_________________________________________________________________\n",
            "conv2d_3 (Conv2D)            (None, 8, 8, 64)          36928     \n",
            "_________________________________________________________________\n",
            "conv2d_4 (Conv2D)            (None, 8, 8, 128)         73856     \n",
            "_________________________________________________________________\n",
            "max_pooling2d_2 (MaxPooling2 (None, 4, 4, 128)         0         \n",
            "_________________________________________________________________\n",
            "conv2d_5 (Conv2D)            (None, 4, 4, 128)         147584    \n",
            "_________________________________________________________________\n",
            "flatten (Flatten)            (None, 2048)              0         \n",
            "_________________________________________________________________\n",
            "dense (Dense)                (None, 128)               262272    \n",
            "_________________________________________________________________\n",
            "dense_1 (Dense)              (None, 10)                1290      \n",
            "=================================================================\n",
            "Total params: 568,490\n",
            "Trainable params: 568,490\n",
            "Non-trainable params: 0\n",
            "_________________________________________________________________\n"
          ],
          "name": "stdout"
        }
      ]
    },
    {
      "cell_type": "markdown",
      "metadata": {
        "id": "glg-mE5_Z0bu"
      },
      "source": [
        "### Training and Evaluation\n",
        "#### Hyperparameters"
      ]
    },
    {
      "cell_type": "code",
      "metadata": {
        "id": "ASY-5idIt_6P"
      },
      "source": [
        "batch_size = 128\n",
        "epochs = 50\n",
        "learning_rate = 0.01\n",
        "momentum = 0.9"
      ],
      "execution_count": 6,
      "outputs": []
    },
    {
      "cell_type": "code",
      "metadata": {
        "id": "4IEs6jmWuVrE"
      },
      "source": [
        "opt = SGD(learning_rate=learning_rate, momentum=momentum)\n",
        "\n",
        "model.compile(loss='categorical_crossentropy',\n",
        "              optimizer=opt,\n",
        "              metrics=['accuracy'])"
      ],
      "execution_count": 7,
      "outputs": []
    },
    {
      "cell_type": "code",
      "metadata": {
        "id": "rD_rdBkj0XMq",
        "outputId": "ae58568a-7533-4c48-a574-3eac78c44a20",
        "colab": {
          "base_uri": "https://localhost:8080/",
          "height": 1000
        }
      },
      "source": [
        "history = model.fit(x_train,\n",
        "                    y_train, \n",
        "                    validation_data=(x_test, y_test),\n",
        "                    epochs=epochs,\n",
        "                    batch_size=batch_size)\n",
        "\n",
        "loss, acc = model.evaluate(x_test, y_test,\n",
        "                           batch_size=batch_size)\n",
        "print(f\"Test Accuracy: {acc * 100.0}\")"
      ],
      "execution_count": 8,
      "outputs": [
        {
          "output_type": "stream",
          "text": [
            "Epoch 1/50\n",
            "391/391 [==============================] - 282s 722ms/step - loss: 1.9597 - accuracy: 0.2759 - val_loss: 1.6057 - val_accuracy: 0.4119\n",
            "Epoch 2/50\n",
            "391/391 [==============================] - 276s 707ms/step - loss: 1.4931 - accuracy: 0.4591 - val_loss: 1.3287 - val_accuracy: 0.5241\n",
            "Epoch 3/50\n",
            "391/391 [==============================] - 281s 718ms/step - loss: 1.2848 - accuracy: 0.5492 - val_loss: 1.1913 - val_accuracy: 0.5873\n",
            "Epoch 4/50\n",
            "391/391 [==============================] - 283s 723ms/step - loss: 1.1129 - accuracy: 0.6128 - val_loss: 1.0485 - val_accuracy: 0.6386\n",
            "Epoch 5/50\n",
            "391/391 [==============================] - 280s 715ms/step - loss: 0.9762 - accuracy: 0.6654 - val_loss: 1.0479 - val_accuracy: 0.6439\n",
            "Epoch 6/50\n",
            "391/391 [==============================] - 280s 715ms/step - loss: 0.8751 - accuracy: 0.7021 - val_loss: 1.0349 - val_accuracy: 0.6422\n",
            "Epoch 7/50\n",
            "391/391 [==============================] - 282s 720ms/step - loss: 0.7917 - accuracy: 0.7332 - val_loss: 0.8721 - val_accuracy: 0.7052\n",
            "Epoch 8/50\n",
            "391/391 [==============================] - 276s 707ms/step - loss: 0.7184 - accuracy: 0.7598 - val_loss: 0.8371 - val_accuracy: 0.7210\n",
            "Epoch 9/50\n",
            "391/391 [==============================] - 287s 735ms/step - loss: 0.6489 - accuracy: 0.7842 - val_loss: 0.8226 - val_accuracy: 0.7341\n",
            "Epoch 10/50\n",
            "391/391 [==============================] - 279s 712ms/step - loss: 0.5867 - accuracy: 0.8085 - val_loss: 0.8318 - val_accuracy: 0.7320\n",
            "Epoch 11/50\n",
            "391/391 [==============================] - 271s 694ms/step - loss: 0.5387 - accuracy: 0.8232 - val_loss: 0.8036 - val_accuracy: 0.7448\n",
            "Epoch 12/50\n",
            "391/391 [==============================] - 278s 712ms/step - loss: 0.4884 - accuracy: 0.8415 - val_loss: 0.8131 - val_accuracy: 0.7420\n",
            "Epoch 13/50\n",
            "391/391 [==============================] - 278s 711ms/step - loss: 0.4289 - accuracy: 0.8636 - val_loss: 0.8309 - val_accuracy: 0.7461\n",
            "Epoch 14/50\n",
            "391/391 [==============================] - 286s 732ms/step - loss: 0.3815 - accuracy: 0.8806 - val_loss: 0.8776 - val_accuracy: 0.7390\n",
            "Epoch 15/50\n",
            "391/391 [==============================] - 276s 705ms/step - loss: 0.3418 - accuracy: 0.8945 - val_loss: 0.9154 - val_accuracy: 0.7430\n",
            "Epoch 16/50\n",
            "391/391 [==============================] - 273s 699ms/step - loss: 0.3056 - accuracy: 0.9074 - val_loss: 0.9611 - val_accuracy: 0.7421\n",
            "Epoch 17/50\n",
            "391/391 [==============================] - 277s 709ms/step - loss: 0.2548 - accuracy: 0.9273 - val_loss: 1.0590 - val_accuracy: 0.7263\n",
            "Epoch 18/50\n",
            "391/391 [==============================] - 271s 693ms/step - loss: 0.2368 - accuracy: 0.9321 - val_loss: 0.9811 - val_accuracy: 0.7435\n",
            "Epoch 19/50\n",
            "391/391 [==============================] - 278s 712ms/step - loss: 0.1982 - accuracy: 0.9465 - val_loss: 1.1046 - val_accuracy: 0.7379\n",
            "Epoch 20/50\n",
            "391/391 [==============================] - 269s 687ms/step - loss: 0.1953 - accuracy: 0.9459 - val_loss: 1.0941 - val_accuracy: 0.7417\n",
            "Epoch 21/50\n",
            "391/391 [==============================] - 271s 692ms/step - loss: 0.1699 - accuracy: 0.9560 - val_loss: 1.1656 - val_accuracy: 0.7325\n",
            "Epoch 22/50\n",
            "391/391 [==============================] - 274s 700ms/step - loss: 0.1620 - accuracy: 0.9580 - val_loss: 1.2324 - val_accuracy: 0.7354\n",
            "Epoch 23/50\n",
            "391/391 [==============================] - 259s 663ms/step - loss: 0.1633 - accuracy: 0.9585 - val_loss: 1.1742 - val_accuracy: 0.7479\n",
            "Epoch 24/50\n",
            "391/391 [==============================] - 270s 690ms/step - loss: 0.1338 - accuracy: 0.9681 - val_loss: 1.2399 - val_accuracy: 0.7358\n",
            "Epoch 25/50\n",
            "391/391 [==============================] - 271s 693ms/step - loss: 0.1291 - accuracy: 0.9698 - val_loss: 1.3716 - val_accuracy: 0.7277\n",
            "Epoch 26/50\n",
            "391/391 [==============================] - 271s 694ms/step - loss: 0.1407 - accuracy: 0.9653 - val_loss: 1.3069 - val_accuracy: 0.7306\n",
            "Epoch 27/50\n",
            "391/391 [==============================] - 267s 684ms/step - loss: 0.1330 - accuracy: 0.9680 - val_loss: 1.3391 - val_accuracy: 0.7319\n",
            "Epoch 28/50\n",
            "391/391 [==============================] - 264s 676ms/step - loss: 0.1347 - accuracy: 0.9678 - val_loss: 1.3630 - val_accuracy: 0.7289\n",
            "Epoch 29/50\n",
            "391/391 [==============================] - 274s 701ms/step - loss: 0.1080 - accuracy: 0.9769 - val_loss: 1.3875 - val_accuracy: 0.7387\n",
            "Epoch 30/50\n",
            "391/391 [==============================] - 271s 694ms/step - loss: 0.0831 - accuracy: 0.9855 - val_loss: 1.4149 - val_accuracy: 0.7426\n",
            "Epoch 31/50\n",
            "391/391 [==============================] - 284s 727ms/step - loss: 0.1088 - accuracy: 0.9754 - val_loss: 1.4124 - val_accuracy: 0.7364\n",
            "Epoch 32/50\n",
            "391/391 [==============================] - 271s 694ms/step - loss: 0.1175 - accuracy: 0.9723 - val_loss: 1.4343 - val_accuracy: 0.7326\n",
            "Epoch 33/50\n",
            "391/391 [==============================] - 269s 688ms/step - loss: 0.0982 - accuracy: 0.9792 - val_loss: 1.3945 - val_accuracy: 0.7399\n",
            "Epoch 34/50\n",
            "391/391 [==============================] - 276s 706ms/step - loss: 0.0832 - accuracy: 0.9849 - val_loss: 1.4315 - val_accuracy: 0.7432\n",
            "Epoch 35/50\n",
            "391/391 [==============================] - 270s 690ms/step - loss: 0.0995 - accuracy: 0.9781 - val_loss: 1.4859 - val_accuracy: 0.7332\n",
            "Epoch 36/50\n",
            "391/391 [==============================] - 274s 700ms/step - loss: 0.0820 - accuracy: 0.9849 - val_loss: 1.5529 - val_accuracy: 0.7330\n",
            "Epoch 37/50\n",
            "391/391 [==============================] - 269s 688ms/step - loss: 0.0675 - accuracy: 0.9892 - val_loss: 1.4487 - val_accuracy: 0.7460\n",
            "Epoch 38/50\n",
            "391/391 [==============================] - 267s 684ms/step - loss: 0.0627 - accuracy: 0.9902 - val_loss: 1.4033 - val_accuracy: 0.7460\n",
            "Epoch 39/50\n",
            "391/391 [==============================] - 275s 703ms/step - loss: 0.0395 - accuracy: 0.9977 - val_loss: 1.3498 - val_accuracy: 0.7557\n",
            "Epoch 40/50\n",
            "391/391 [==============================] - 269s 688ms/step - loss: 0.0278 - accuracy: 0.9998 - val_loss: 1.2639 - val_accuracy: 0.7585\n",
            "Epoch 41/50\n",
            "391/391 [==============================] - 272s 697ms/step - loss: 0.0230 - accuracy: 1.0000 - val_loss: 1.2414 - val_accuracy: 0.7572\n",
            "Epoch 42/50\n",
            "391/391 [==============================] - 268s 686ms/step - loss: 0.0208 - accuracy: 1.0000 - val_loss: 1.2394 - val_accuracy: 0.7570\n",
            "Epoch 43/50\n",
            "391/391 [==============================] - 270s 690ms/step - loss: 0.0191 - accuracy: 1.0000 - val_loss: 1.2323 - val_accuracy: 0.7583\n",
            "Epoch 44/50\n",
            "391/391 [==============================] - 268s 686ms/step - loss: 0.0179 - accuracy: 1.0000 - val_loss: 1.2313 - val_accuracy: 0.7573\n",
            "Epoch 45/50\n",
            "391/391 [==============================] - 281s 718ms/step - loss: 0.0170 - accuracy: 1.0000 - val_loss: 1.2278 - val_accuracy: 0.7586\n",
            "Epoch 46/50\n",
            "391/391 [==============================] - 270s 690ms/step - loss: 0.0163 - accuracy: 1.0000 - val_loss: 1.2348 - val_accuracy: 0.7602\n",
            "Epoch 47/50\n",
            "391/391 [==============================] - 275s 702ms/step - loss: 0.0156 - accuracy: 1.0000 - val_loss: 1.2313 - val_accuracy: 0.7617\n",
            "Epoch 48/50\n",
            "391/391 [==============================] - 268s 684ms/step - loss: 0.0150 - accuracy: 1.0000 - val_loss: 1.2304 - val_accuracy: 0.7601\n",
            "Epoch 49/50\n",
            "391/391 [==============================] - 265s 679ms/step - loss: 0.0145 - accuracy: 1.0000 - val_loss: 1.2283 - val_accuracy: 0.7607\n",
            "Epoch 50/50\n",
            "391/391 [==============================] - 265s 677ms/step - loss: 0.0140 - accuracy: 1.0000 - val_loss: 1.2341 - val_accuracy: 0.7587\n",
            "79/79 [==============================] - 15s 185ms/step - loss: 1.2341 - accuracy: 0.7587\n",
            "Test Accuracy: 75.87000131607056\n"
          ],
          "name": "stdout"
        }
      ]
    },
    {
      "cell_type": "code",
      "metadata": {
        "id": "s5816L1nuxBz",
        "outputId": "cd0f64a0-f183-4a4b-db95-ed346a113b1b",
        "colab": {
          "base_uri": "https://localhost:8080/",
          "height": 573
        }
      },
      "source": [
        "import matplotlib.pyplot as plt\n",
        "\n",
        "# Plot history: Loss and accuracy\n",
        "plt.plot(history.history['loss'], label='Train loss')\n",
        "plt.plot(history.history['val_loss'], label='Test loss')\n",
        "plt.title('Train and Test Loss')\n",
        "plt.ylabel('Cross-Entropy')\n",
        "plt.xlabel('Epochs')\n",
        "plt.legend(loc=\"upper right\")\n",
        "plt.show()\n",
        "\n",
        "# Plot history: Loss and accuracy\n",
        "plt.plot(history.history['accuracy'], label='Train accuracy')\n",
        "plt.plot(history.history['val_accuracy'], label='Test accuracy')\n",
        "plt.title('Train and Test Accuracy')\n",
        "plt.ylabel('Accuracy')\n",
        "plt.xlabel('Epochs')\n",
        "plt.legend(loc=\"lower right\")\n",
        "plt.show()"
      ],
      "execution_count": 9,
      "outputs": [
        {
          "output_type": "display_data",
          "data": {
            "image/png": "[encoded data removed]",
            "text/plain": [
              "<Figure size 432x288 with 1 Axes>"
            ]
          },
          "metadata": {
            "tags": [],
            "needs_background": "light"
          }
        },
        {
          "output_type": "display_data",
          "data": {
            "image/png": "[encoded data removed]",
            "text/plain": [
              "<Figure size 432x288 with 1 Axes>"
            ]
          },
          "metadata": {
            "tags": [],
            "needs_background": "light"
          }
        }
      ]
    }
  ]
}