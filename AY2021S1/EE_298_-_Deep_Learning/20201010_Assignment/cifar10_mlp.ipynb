{
  "cells": [
    {
      "cell_type": "markdown",
      "metadata": {
        "id": "6uGXnWudo-hz"
      },
      "source": [
        "# EE 298 Deep Learning Assignment\n",
        "Build a classifier on CIFAR10 using:  \n",
        "a) MLP  \n",
        "b) CNN  \n",
        "Then compare the performance of both networks.\n",
        "\n",
        "## Import modules and load the dataset"
      ]
    },
    {
      "cell_type": "code",
      "metadata": {
        "id": "pWobfDgHm_RT",
        "outputId": "0ac6e9a7-4c88-4c02-e5d7-c1cdd217affc",
        "colab": {
          "base_uri": "https://localhost:8080/",
          "height": 34
        }
      },
      "source": [
        "import numpy as np\n",
        "import tensorflow\n",
        "from tensorflow.keras.layers import Dense, Input\n",
        "from tensorflow.keras.utils import to_categorical, plot_model\n",
        "from tensorflow.keras.models import Model\n",
        "from tensorflow.keras.datasets import cifar10\n",
        "from tensorflow.keras import regularizers\n",
        "from tensorflow.keras import initializers\n",
        "from tensorflow.keras.optimizers import SGD\n",
        "\n",
        "# Load CIFAR10\n",
        "(x_train, y_train), (x_test, y_test) = cifar10.load_data()\n",
        "\n",
        "# Compute the number of labels\n",
        "num_labels = len(np.unique(y_train))\n",
        "print(f\"Number of labels: {num_labels}\")"
      ],
      "execution_count": null,
      "outputs": [
        {
          "output_type": "stream",
          "text": [
            "Number of labels: 10\n"
          ],
          "name": "stdout"
        }
      ]
    },
    {
      "cell_type": "markdown",
      "metadata": {
        "id": "AXtn8byspxqV"
      },
      "source": [
        "## Data Pre-processing"
      ]
    },
    {
      "cell_type": "code",
      "metadata": {
        "id": "MJVQvBkPp2O1"
      },
      "source": [
        "y_train = to_categorical(y_train, num_labels)\n",
        "y_test = to_categorical(y_test, num_labels)"
      ],
      "execution_count": null,
      "outputs": []
    },
    {
      "cell_type": "code",
      "metadata": {
        "id": "SA1utQszrqjY"
      },
      "source": [
        "# image dimensions (assumed square)\n",
        "image_size = x_train.shape[1]\n",
        "input_size = image_size * image_size * x_train.shape[3]\n",
        "\n",
        "# resize and normalize\n",
        "x_train = np.reshape(x_train, [-1, input_size])\n",
        "x_train = x_train.astype('float32') / 255\n",
        "x_test = np.reshape(x_test, [-1, input_size])\n",
        "x_test = x_test.astype('float32') / 255"
      ],
      "execution_count": null,
      "outputs": []
    },
    {
      "cell_type": "markdown",
      "metadata": {
        "id": "6-KlojFXRtmB"
      },
      "source": [
        "## MLP\n",
        "\n",
        "### Model"
      ]
    },
    {
      "cell_type": "code",
      "metadata": {
        "id": "YOOPhoJkf7XS"
      },
      "source": [
        "kernel_regularizer = regularizers.l2(l2=1e-5)\n",
        "activity_regularizer = regularizers.l2(1e-5)\n",
        "bias_regularizer=regularizers.l2(1e-5)\n",
        "kernel_initializer = 'glorot_uniform'"
      ],
      "execution_count": null,
      "outputs": []
    },
    {
      "cell_type": "markdown",
      "metadata": {
        "id": "Qn4UvvxKf_6l"
      },
      "source": [
        "\n",
        "\n",
        "\n"
      ]
    },
    {
      "cell_type": "code",
      "metadata": {
        "id": "lPNtSl_rs89n",
        "outputId": "79a060c4-f5c6-4c1e-e3f2-7f365f258a16",
        "colab": {
          "base_uri": "https://localhost:8080/",
          "height": 538
        }
      },
      "source": [
        "inputs = Input(shape=input_size)\n",
        "y = Dense(2048,\n",
        "          input_dim=input_size,\n",
        "          kernel_regularizer=kernel_regularizer,\n",
        "          kernel_initializer=kernel_initializer,\n",
        "          activity_regularizer=activity_regularizer,\n",
        "          bias_regularizer=bias_regularizer,\n",
        "          activation='relu')(inputs)\n",
        "y = Dense(512,\n",
        "          input_dim=input_size,\n",
        "          kernel_regularizer=kernel_regularizer,\n",
        "          kernel_initializer=kernel_initializer,\n",
        "          activity_regularizer=activity_regularizer,\n",
        "          bias_regularizer=bias_regularizer,\n",
        "          activation='relu')(y)\n",
        "y = Dense(256,\n",
        "          input_dim=input_size,\n",
        "          kernel_regularizer=kernel_regularizer,\n",
        "          kernel_initializer=kernel_initializer,\n",
        "          activity_regularizer=activity_regularizer,\n",
        "          bias_regularizer=bias_regularizer,\n",
        "          activation='relu')(y)\n",
        "y = Dense(128,\n",
        "          kernel_regularizer=kernel_regularizer,\n",
        "          kernel_initializer=kernel_initializer,\n",
        "          activity_regularizer=activity_regularizer,\n",
        "          bias_regularizer=bias_regularizer,\n",
        "          activation='relu')(y)\n",
        "y = Dense(64,\n",
        "          kernel_regularizer=kernel_regularizer,\n",
        "          kernel_initializer=kernel_initializer,\n",
        "          activity_regularizer=activity_regularizer,\n",
        "          bias_regularizer=bias_regularizer,\n",
        "          activation='relu')(y)\n",
        "y = Dense(128,\n",
        "          kernel_regularizer=kernel_regularizer,\n",
        "          kernel_initializer=kernel_initializer,\n",
        "          activity_regularizer=activity_regularizer,\n",
        "          bias_regularizer=bias_regularizer,\n",
        "          activation='relu')(y)\n",
        "y = Dense(256,\n",
        "          kernel_regularizer=kernel_regularizer,\n",
        "          kernel_initializer=kernel_initializer,\n",
        "          activity_regularizer=activity_regularizer,\n",
        "          bias_regularizer=bias_regularizer,\n",
        "          activation='relu')(y)\n",
        "y = Dense(512,\n",
        "          kernel_regularizer=kernel_regularizer,\n",
        "          kernel_initializer=kernel_initializer,\n",
        "          activity_regularizer=activity_regularizer,\n",
        "          bias_regularizer=bias_regularizer,\n",
        "          activation='relu')(y)\n",
        "y = Dense(2048,\n",
        "          kernel_regularizer=kernel_regularizer,\n",
        "          kernel_initializer=kernel_initializer,\n",
        "          activity_regularizer=activity_regularizer,\n",
        "          bias_regularizer=bias_regularizer,\n",
        "          activation='relu')(y)\n",
        "outputs = Dense(num_labels,\n",
        "                kernel_regularizer=kernel_regularizer,\n",
        "                kernel_initializer=kernel_initializer,\n",
        "                activity_regularizer=activity_regularizer,\n",
        "                bias_regularizer=bias_regularizer,\n",
        "                activation='softmax')(y)\n",
        "\n",
        "model = Model(inputs=inputs,\n",
        "              outputs=outputs)\n",
        "model.summary()"
      ],
      "execution_count": null,
      "outputs": [
        {
          "output_type": "stream",
          "text": [
            "Model: \"functional_1\"\n",
            "_________________________________________________________________\n",
            "Layer (type)                 Output Shape              Param #   \n",
            "=================================================================\n",
            "input_1 (InputLayer)         [(None, 3072)]            0         \n",
            "_________________________________________________________________\n",
            "dense (Dense)                (None, 2048)              6293504   \n",
            "_________________________________________________________________\n",
            "dense_1 (Dense)              (None, 512)               1049088   \n",
            "_________________________________________________________________\n",
            "dense_2 (Dense)              (None, 256)               131328    \n",
            "_________________________________________________________________\n",
            "dense_3 (Dense)              (None, 128)               32896     \n",
            "_________________________________________________________________\n",
            "dense_4 (Dense)              (None, 64)                8256      \n",
            "_________________________________________________________________\n",
            "dense_5 (Dense)              (None, 128)               8320      \n",
            "_________________________________________________________________\n",
            "dense_6 (Dense)              (None, 256)               33024     \n",
            "_________________________________________________________________\n",
            "dense_7 (Dense)              (None, 512)               131584    \n",
            "_________________________________________________________________\n",
            "dense_8 (Dense)              (None, 2048)              1050624   \n",
            "_________________________________________________________________\n",
            "dense_9 (Dense)              (None, 10)                20490     \n",
            "=================================================================\n",
            "Total params: 8,759,114\n",
            "Trainable params: 8,759,114\n",
            "Non-trainable params: 0\n",
            "_________________________________________________________________\n"
          ],
          "name": "stdout"
        }
      ]
    },
    {
      "cell_type": "markdown",
      "metadata": {
        "id": "3gexyVeJxuUH"
      },
      "source": [
        "# Training and Evaluation"
      ]
    },
    {
      "cell_type": "markdown",
      "metadata": {
        "id": "c2UkO6rUR1sw"
      },
      "source": [
        "### Hyperparameters"
      ]
    },
    {
      "cell_type": "code",
      "metadata": {
        "id": "kU0wpeGdaBSh"
      },
      "source": [
        "learning_rate = 0.001\n",
        "momentum = 0.9\n",
        "epochs = 50\n",
        "batch_size = 32"
      ],
      "execution_count": null,
      "outputs": []
    },
    {
      "cell_type": "code",
      "metadata": {
        "id": "XTYeei9txqNT",
        "outputId": "07526acb-bee7-4b64-b23d-ea13ac197f53",
        "colab": {
          "base_uri": "https://localhost:8080/",
          "height": 1000
        }
      },
      "source": [
        "opt = SGD(learning_rate=learning_rate, momentum=momentum)\n",
        "model.compile(loss='categorical_crossentropy',\n",
        "              optimizer=opt,\n",
        "              metrics=['accuracy'])\n",
        "history = model.fit(x_train, y_train,\n",
        "                    validation_data=(x_test, y_test),\n",
        "                    epochs=epochs,\n",
        "                    batch_size=batch_size)\n",
        "loss, acc = model.evaluate(x_test, y_test,\n",
        "                           batch_size=batch_size)\n",
        "print(f\"Test Accuracy: {acc * 100.0}\")"
      ],
      "execution_count": null,
      "outputs": [
        {
          "output_type": "stream",
          "text": [
            "Epoch 1/50\n",
            "1563/1563 [==============================] - 112s 72ms/step - loss: 2.0878 - accuracy: 0.2382 - val_loss: 1.9719 - val_accuracy: 0.3034\n",
            "Epoch 2/50\n",
            "1563/1563 [==============================] - 120s 77ms/step - loss: 1.8084 - accuracy: 0.3590 - val_loss: 1.7141 - val_accuracy: 0.3985\n",
            "Epoch 3/50\n",
            "1563/1563 [==============================] - 115s 74ms/step - loss: 1.6900 - accuracy: 0.4076 - val_loss: 1.6241 - val_accuracy: 0.4422\n",
            "Epoch 4/50\n",
            "1563/1563 [==============================] - 113s 72ms/step - loss: 1.6182 - accuracy: 0.4355 - val_loss: 1.5898 - val_accuracy: 0.4471\n",
            "Epoch 5/50\n",
            "1563/1563 [==============================] - 111s 71ms/step - loss: 1.5595 - accuracy: 0.4580 - val_loss: 1.5751 - val_accuracy: 0.4527\n",
            "Epoch 6/50\n",
            "1563/1563 [==============================] - 113s 72ms/step - loss: 1.5118 - accuracy: 0.4761 - val_loss: 1.5304 - val_accuracy: 0.4652\n",
            "Epoch 7/50\n",
            "1563/1563 [==============================] - 113s 73ms/step - loss: 1.4768 - accuracy: 0.4886 - val_loss: 1.5160 - val_accuracy: 0.4807\n",
            "Epoch 8/50\n",
            "1563/1563 [==============================] - 111s 71ms/step - loss: 1.4328 - accuracy: 0.5048 - val_loss: 1.4712 - val_accuracy: 0.4950\n",
            "Epoch 9/50\n",
            "1563/1563 [==============================] - 114s 73ms/step - loss: 1.3946 - accuracy: 0.5179 - val_loss: 1.5208 - val_accuracy: 0.4720\n",
            "Epoch 10/50\n",
            "1563/1563 [==============================] - 112s 71ms/step - loss: 1.3668 - accuracy: 0.5295 - val_loss: 1.4867 - val_accuracy: 0.4926\n",
            "Epoch 11/50\n",
            "1563/1563 [==============================] - 113s 72ms/step - loss: 1.3294 - accuracy: 0.5437 - val_loss: 1.4871 - val_accuracy: 0.4917\n",
            "Epoch 12/50\n",
            "1563/1563 [==============================] - 113s 72ms/step - loss: 1.3082 - accuracy: 0.5523 - val_loss: 1.4533 - val_accuracy: 0.5037\n",
            "Epoch 13/50\n",
            "1563/1563 [==============================] - 111s 71ms/step - loss: 1.2742 - accuracy: 0.5644 - val_loss: 1.4277 - val_accuracy: 0.5130\n",
            "Epoch 14/50\n",
            "1563/1563 [==============================] - 113s 72ms/step - loss: 1.2513 - accuracy: 0.5716 - val_loss: 1.4570 - val_accuracy: 0.5099\n",
            "Epoch 15/50\n",
            "1563/1563 [==============================] - 119s 76ms/step - loss: 1.2225 - accuracy: 0.5827 - val_loss: 1.4476 - val_accuracy: 0.5095\n",
            "Epoch 16/50\n",
            "1563/1563 [==============================] - 118s 75ms/step - loss: 1.1976 - accuracy: 0.5930 - val_loss: 1.4513 - val_accuracy: 0.5145\n",
            "Epoch 17/50\n",
            "1563/1563 [==============================] - 110s 71ms/step - loss: 1.1667 - accuracy: 0.6039 - val_loss: 1.4028 - val_accuracy: 0.5235\n",
            "Epoch 18/50\n",
            "1563/1563 [==============================] - 110s 70ms/step - loss: 1.1374 - accuracy: 0.6140 - val_loss: 1.3936 - val_accuracy: 0.5279\n",
            "Epoch 19/50\n",
            "1563/1563 [==============================] - 111s 71ms/step - loss: 1.1169 - accuracy: 0.6191 - val_loss: 1.4187 - val_accuracy: 0.5304\n",
            "Epoch 20/50\n",
            "1563/1563 [==============================] - 114s 73ms/step - loss: 1.0842 - accuracy: 0.6346 - val_loss: 1.4844 - val_accuracy: 0.5148\n",
            "Epoch 21/50\n",
            "1563/1563 [==============================] - 112s 71ms/step - loss: 1.0640 - accuracy: 0.6408 - val_loss: 1.4095 - val_accuracy: 0.5342\n",
            "Epoch 22/50\n",
            "1563/1563 [==============================] - 112s 71ms/step - loss: 1.0396 - accuracy: 0.6488 - val_loss: 1.4189 - val_accuracy: 0.5311\n",
            "Epoch 23/50\n",
            "1563/1563 [==============================] - 111s 71ms/step - loss: 1.0090 - accuracy: 0.6616 - val_loss: 1.4523 - val_accuracy: 0.5323\n",
            "Epoch 24/50\n",
            "1563/1563 [==============================] - 113s 72ms/step - loss: 0.9814 - accuracy: 0.6711 - val_loss: 1.4858 - val_accuracy: 0.5325\n",
            "Epoch 25/50\n",
            "1563/1563 [==============================] - 117s 75ms/step - loss: 0.9589 - accuracy: 0.6798 - val_loss: 1.4177 - val_accuracy: 0.5423\n",
            "Epoch 26/50\n",
            "1563/1563 [==============================] - 111s 71ms/step - loss: 0.9344 - accuracy: 0.6894 - val_loss: 1.4801 - val_accuracy: 0.5391\n",
            "Epoch 27/50\n",
            "1563/1563 [==============================] - 112s 71ms/step - loss: 0.9117 - accuracy: 0.6963 - val_loss: 1.5914 - val_accuracy: 0.5264\n",
            "Epoch 28/50\n",
            "1563/1563 [==============================] - 116s 74ms/step - loss: 0.8927 - accuracy: 0.7029 - val_loss: 1.4669 - val_accuracy: 0.5262\n",
            "Epoch 29/50\n",
            "1563/1563 [==============================] - 120s 77ms/step - loss: 0.8652 - accuracy: 0.7137 - val_loss: 1.5417 - val_accuracy: 0.5369\n",
            "Epoch 30/50\n",
            "1563/1563 [==============================] - 110s 71ms/step - loss: 0.8358 - accuracy: 0.7259 - val_loss: 1.5053 - val_accuracy: 0.5364\n",
            "Epoch 31/50\n",
            "1563/1563 [==============================] - 111s 71ms/step - loss: 0.8219 - accuracy: 0.7293 - val_loss: 1.5054 - val_accuracy: 0.5373\n",
            "Epoch 32/50\n",
            "1563/1563 [==============================] - 110s 71ms/step - loss: 0.7979 - accuracy: 0.7375 - val_loss: 1.6234 - val_accuracy: 0.5265\n",
            "Epoch 33/50\n",
            "1563/1563 [==============================] - 113s 72ms/step - loss: 0.7719 - accuracy: 0.7468 - val_loss: 1.5814 - val_accuracy: 0.5389\n",
            "Epoch 34/50\n",
            "1563/1563 [==============================] - 112s 72ms/step - loss: 0.7509 - accuracy: 0.7551 - val_loss: 1.6218 - val_accuracy: 0.5412\n",
            "Epoch 35/50\n",
            "1563/1563 [==============================] - 113s 72ms/step - loss: 0.7327 - accuracy: 0.7623 - val_loss: 1.6093 - val_accuracy: 0.5270\n",
            "Epoch 36/50\n",
            "1563/1563 [==============================] - 115s 74ms/step - loss: 0.7100 - accuracy: 0.7714 - val_loss: 1.6656 - val_accuracy: 0.5385\n",
            "Epoch 37/50\n",
            "1563/1563 [==============================] - 113s 72ms/step - loss: 0.6842 - accuracy: 0.7793 - val_loss: 1.6465 - val_accuracy: 0.5324\n",
            "Epoch 38/50\n",
            "1563/1563 [==============================] - 112s 71ms/step - loss: 0.6682 - accuracy: 0.7878 - val_loss: 1.8078 - val_accuracy: 0.5279\n",
            "Epoch 39/50\n",
            "1563/1563 [==============================] - 112s 71ms/step - loss: 0.6486 - accuracy: 0.7921 - val_loss: 1.8118 - val_accuracy: 0.5400\n",
            "Epoch 40/50\n",
            "1563/1563 [==============================] - 112s 71ms/step - loss: 0.6275 - accuracy: 0.7999 - val_loss: 1.8378 - val_accuracy: 0.5317\n",
            "Epoch 41/50\n",
            "1563/1563 [==============================] - 115s 74ms/step - loss: 0.6145 - accuracy: 0.8050 - val_loss: 1.7791 - val_accuracy: 0.5481\n",
            "Epoch 42/50\n",
            "1563/1563 [==============================] - 112s 72ms/step - loss: 0.5814 - accuracy: 0.8156 - val_loss: 1.8210 - val_accuracy: 0.5381\n",
            "Epoch 43/50\n",
            "1563/1563 [==============================] - 111s 71ms/step - loss: 0.5751 - accuracy: 0.8200 - val_loss: 1.8226 - val_accuracy: 0.5357\n",
            "Epoch 44/50\n",
            "1563/1563 [==============================] - 113s 72ms/step - loss: 0.5594 - accuracy: 0.8257 - val_loss: 1.8533 - val_accuracy: 0.5455\n",
            "Epoch 45/50\n",
            "1563/1563 [==============================] - 118s 76ms/step - loss: 0.5339 - accuracy: 0.8356 - val_loss: 1.9992 - val_accuracy: 0.5287\n",
            "Epoch 46/50\n",
            "1563/1563 [==============================] - 113s 72ms/step - loss: 0.5313 - accuracy: 0.8353 - val_loss: 1.8658 - val_accuracy: 0.5333\n",
            "Epoch 47/50\n",
            "1563/1563 [==============================] - 110s 70ms/step - loss: 0.5017 - accuracy: 0.8471 - val_loss: 1.8678 - val_accuracy: 0.5416\n",
            "Epoch 48/50\n",
            "1563/1563 [==============================] - 108s 69ms/step - loss: 0.4914 - accuracy: 0.8496 - val_loss: 1.9551 - val_accuracy: 0.5363\n",
            "Epoch 49/50\n",
            "1563/1563 [==============================] - 107s 69ms/step - loss: 0.4796 - accuracy: 0.8542 - val_loss: 1.9475 - val_accuracy: 0.5408\n",
            "Epoch 50/50\n",
            "1563/1563 [==============================] - 107s 68ms/step - loss: 0.4753 - accuracy: 0.8555 - val_loss: 1.9735 - val_accuracy: 0.5515\n",
            "313/313 [==============================] - 7s 22ms/step - loss: 1.9735 - accuracy: 0.5515\n",
            "Test Accuracy: 55.150002241134644\n"
          ],
          "name": "stdout"
        }
      ]
    },
    {
      "cell_type": "code",
      "metadata": {
        "id": "bMRSzs25As3k",
        "outputId": "c91e0306-0057-4f39-bc8f-03b4e71249ae",
        "colab": {
          "base_uri": "https://localhost:8080/",
          "height": 573
        }
      },
      "source": [
        "import matplotlib.pyplot as plt\n",
        "\n",
        "# Plot history: Loss and accuracy\n",
        "plt.plot(history.history['loss'], label='Train loss')\n",
        "plt.plot(history.history['val_loss'], label='Test loss')\n",
        "plt.title('Train and Test Loss')\n",
        "plt.ylabel('Cross-Entropy')\n",
        "plt.xlabel('Epochs')\n",
        "plt.legend(loc=\"upper right\")\n",
        "plt.show()\n",
        "\n",
        "# Plot history: Loss and accuracy\n",
        "plt.plot(history.history['accuracy'], label='Train accuracy')\n",
        "plt.plot(history.history['val_accuracy'], label='Test accuracy')\n",
        "plt.title('Train and Test Accuracy')\n",
        "plt.ylabel('Accuracy')\n",
        "plt.xlabel('Epochs')\n",
        "plt.legend(loc=\"lower right\")\n",
        "plt.show()"
      ],
      "execution_count": null,
      "outputs": [
        {
          "output_type": "display_data",
          "data": {
            "image/png": "[encoded data removed]",
            "text/plain": [
              "<Figure size 432x288 with 1 Axes>"
            ]
          },
          "metadata": {
            "tags": [],
            "needs_background": "light"
          }
        },
        {
          "output_type": "display_data",
          "data": {
            "image/png": "[encoded data removed]",
            "text/plain": [
              "<Figure size 432x288 with 1 Axes>"
            ]
          },
          "metadata": {
            "tags": [],
            "needs_background": "light"
          }
        }
      ]
    }
  ],
  "metadata": {
    "colab": {
      "name": "Copy of cifar10_mlp",
      "provenance": [],
      "collapsed_sections": []
    },
    "kernelspec": {
      "name": "python3",
      "display_name": "Python 3"
    }
  },
  "nbformat": 4,
  "nbformat_minor": 0
}